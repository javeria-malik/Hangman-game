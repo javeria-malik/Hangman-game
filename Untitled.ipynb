{
 "cells": [
  {
   "cell_type": "code",
   "execution_count": null,
   "id": "6c333664",
   "metadata": {},
   "outputs": [
    {
     "name": "stdout",
     "output_type": "stream",
     "text": [
      "What's your name? jiya\n",
      "Hello jiya Time to play the game!\n",
      "Start guessing...\n",
      "The secret word has 6 letters.\n",
      "Here are two letters from the word: _ a _ a _ a\n",
      "\n",
      "Remaining guesses: 10\n",
      "Guess a letter: b\n",
      "Correct!\n",
      "The word now looks like: b a _ a _ a\n",
      "\n",
      "Remaining guesses: 10\n",
      "Guess a letter: n\n",
      "Correct!\n",
      "The word now looks like: b a n a n a\n",
      "\n",
      "Remaining guesses: 10\n",
      "Guess a letter: m\n",
      "Incorrect! Try again.\n",
      "\n",
      "Remaining guesses: 9\n"
     ]
    }
   ],
   "source": [
    "import time\n",
    "import random\n",
    "\n",
    "def choose_secret_word():\n",
    "    words = [\"apple\", \"banana\", \"python\", \"computer\"]\n",
    "    return random.choice(words)\n",
    "\n",
    "def show_masked_word(word, revealed_letters):\n",
    "    return \" \".join(letter if letter in revealed_letters else \"_\" for letter in word)\n",
    "\n",
    "def play_game():\n",
    "    secret_word = choose_secret_word()\n",
    "    num_guesses = 10\n",
    "    guessed_letters = []\n",
    "    remaining_letters = set(secret_word)\n",
    "\n",
    "    print(\"The secret word has\", len(secret_word), \"letters.\")\n",
    "\n",
    "    # Pick two random letters to reveal:\n",
    "    reveal_indices = random.sample(range(len(secret_word)), 2)\n",
    "    guessed_letters.extend(secret_word[i] for i in reveal_indices)\n",
    "\n",
    "    print(\"Here are two letters from the word:\", show_masked_word(secret_word, guessed_letters))\n",
    "\n",
    "    while num_guesses > 0 and remaining_letters:\n",
    "        print(\"\\nRemaining guesses:\", num_guesses)\n",
    "        guess = input(\"Guess a letter: \").lower()\n",
    "\n",
    "        if guess in guessed_letters:\n",
    "            print(\"You already guessed that letter.\")\n",
    "        elif guess in remaining_letters:\n",
    "            guessed_letters.append(guess)\n",
    "            remaining_letters.remove(guess)\n",
    "            print(\"Correct!\")\n",
    "            print(\"The word now looks like:\", show_masked_word(secret_word, guessed_letters))\n",
    "\n",
    "            # Check for win condition immediately after updating remaining_letters:\n",
    "            if not remaining_letters:\n",
    "                print(\"You win! The word was:\", secret_word)\n",
    "                break  # Exit the loop, ending the game\n",
    "        else:\n",
    "            num_guesses -= 1\n",
    "            print(\"Incorrect! Try again.\")\n",
    "\n",
    "    if num_guesses == 0:\n",
    "        print(\"You lose! The word was:\", secret_word)\n",
    "\n",
    "if __name__ == \"__main__\":\n",
    "    name = input(\"What's your name? \")\n",
    "    print(\"Hello\", name, \"Time to play the game!\")\n",
    "    time.sleep(1)\n",
    "    print(\"Start guessing...\")\n",
    "    time.sleep(0.5)\n",
    "    play_game()\n"
   ]
  },
  {
   "cell_type": "code",
   "execution_count": null,
   "id": "7c5434e9",
   "metadata": {},
   "outputs": [],
   "source": []
  },
  {
   "cell_type": "code",
   "execution_count": null,
   "id": "805a6e39",
   "metadata": {},
   "outputs": [],
   "source": [
    "\n"
   ]
  }
 ],
 "metadata": {
  "kernelspec": {
   "display_name": "Python 3 (ipykernel)",
   "language": "python",
   "name": "python3"
  },
  "language_info": {
   "codemirror_mode": {
    "name": "ipython",
    "version": 3
   },
   "file_extension": ".py",
   "mimetype": "text/x-python",
   "name": "python",
   "nbconvert_exporter": "python",
   "pygments_lexer": "ipython3",
   "version": "3.11.4"
  }
 },
 "nbformat": 4,
 "nbformat_minor": 5
}
